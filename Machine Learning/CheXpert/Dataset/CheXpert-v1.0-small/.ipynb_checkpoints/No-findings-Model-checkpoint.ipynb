{
 "cells": [
  {
   "cell_type": "code",
   "execution_count": 125,
   "metadata": {},
   "outputs": [
    {
     "name": "stdout",
     "output_type": "stream",
     "text": [
      "Accuracy: 0.9565217391304348\n"
     ]
    }
   ],
   "source": [
    "import numpy as np\n",
    "import pandas as pd\n",
    "import cv2\n",
    "import random, warnings\n",
    "from collections import Counter\n",
    "\n",
    "def model_algorithm(data, predict, k = 5):\n",
    "    if(k < len(data)):\n",
    "        warnings.warn('K is set to a value less than the total voting groups!')\n",
    "    distances = []\n",
    "    for group in data:\n",
    "        for features in data[group]:\n",
    "            euclid_dist = np.linalg.norm(np.array(features) - np.array(predict))\n",
    "            distances.append([euclid_dist, group])\n",
    "    votes = [i[1] for i in sorted(distances)[:k]]\n",
    "    vote_result = Counter(votes).most_common(1)[0][0]\n",
    "    return vote_result\n",
    "\n",
    "df = pd.read_csv('No_find.csv')\n",
    "paths = np.array(df['Path'])\n",
    "# print(df.head())\n",
    "training_data = []\n",
    "def create_training_data():\n",
    "    for i in range(len(df['Path'])):\n",
    "        try:\n",
    "            org_img = \"C:\\\\Users\\\\ANJANI KISHAN\\\\Projects\\\\Machine Learning\\\\CheXpert\\\\Dataset\\\\\" + str(df['Path'][i])\n",
    "            img_array = cv2.imread(org_img)\n",
    "            new_array = cv2.resize(img_array, (200, 200))\n",
    "            training_data.append([new_array, df['No Finding'][i]])\n",
    "        except Exception as e:\n",
    "            pass\n",
    "create_training_data()\n",
    "random.shuffle(training_data)\n",
    "\n",
    "test_size = 0.1\n",
    "\n",
    "train_data = training_data[:-int(test_size * len(training_data))]\n",
    "test_data = training_data[-int(test_size * len(training_data)):]\n",
    "\n",
    "train_set = {0: [], 1: []}\n",
    "test_set = {0: [], 1: []}\n",
    "\n",
    "for i in train_data:\n",
    "    train_set[i[-1]].append(i[0])\n",
    "\n",
    "for i in test_data:\n",
    "    test_set[i[-1]].append(i[0])\n",
    "\n",
    "correct = 0\n",
    "total = 0\n",
    "for group in test_set:\n",
    "    for predict_value in test_set[group]:\n",
    "        vote = model_algorithm(train_set, predict_value, k = 10)\n",
    "        if(vote == group):\n",
    "            correct += 1\n",
    "        total += 1\n",
    "print('Accuracy:', correct/total)"
   ]
  },
  {
   "cell_type": "code",
   "execution_count": 155,
   "metadata": {},
   "outputs": [
    {
     "name": "stdout",
     "output_type": "stream",
     "text": [
      "0.8297872340425532\n"
     ]
    }
   ],
   "source": [
    "import numpy as np\n",
    "import pandas as pd\n",
    "from sklearn import model_selection, neighbors\n",
    "\n",
    "df = pd.read_csv('No_find.csv')\n",
    "paths = np.array(df['Path'])\n",
    "# print(df.head())\n",
    "training_data = []\n",
    "def create_training_data():\n",
    "    for i in range(len(df['Path'])):\n",
    "        try:\n",
    "            org_img = \"C:\\\\Users\\\\ANJANI KISHAN\\\\Projects\\\\Machine Learning\\\\CheXpert\\\\Dataset\\\\\" + str(df['Path'][i])\n",
    "            img_array = cv2.imread(org_img, cv2.IMREAD_GRAYSCALE)\n",
    "            new_array = cv2.resize(img_array, (50, 50))\n",
    "            new_array = new_array.flatten()\n",
    "            training_data.append([new_array, df['No Finding'][i]])\n",
    "        except Exception as e:\n",
    "            pass\n",
    "create_training_data()\n",
    "random.shuffle(training_data)\n",
    "\n",
    "X = []\n",
    "y = []\n",
    "\n",
    "for i in training_data:\n",
    "    X.append(i[0])\n",
    "    y.append(i[1])\n",
    "\n",
    "X = np.array(X)\n",
    "y = np.array(y)\n",
    "\n",
    "X_train, X_test, y_train, y_test = model_selection.train_test_split(X, y, test_size = 0.2)\n",
    "\n",
    "clf = neighbors.KNeighborsClassifier(n_neighbors = 10)\n",
    "\n",
    "clf.fit(X_train, y_train)\n",
    "accuracy = clf.score(X_test, y_test)\n",
    "print(accuracy)"
   ]
  },
  {
   "cell_type": "code",
   "execution_count": null,
   "metadata": {},
   "outputs": [],
   "source": []
  }
 ],
 "metadata": {
  "kernelspec": {
   "display_name": "Python 3",
   "language": "python",
   "name": "python3"
  },
  "language_info": {
   "codemirror_mode": {
    "name": "ipython",
    "version": 3
   },
   "file_extension": ".py",
   "mimetype": "text/x-python",
   "name": "python",
   "nbconvert_exporter": "python",
   "pygments_lexer": "ipython3",
   "version": "3.6.9"
  }
 },
 "nbformat": 4,
 "nbformat_minor": 2
}

{
 "cells": [
  {
   "cell_type": "code",
   "execution_count": 36,
   "metadata": {},
   "outputs": [
    {
     "name": "stdout",
     "output_type": "stream",
     "text": [
      "0.9782720691362128\n"
     ]
    }
   ],
   "source": [
    "import quandl, math, pickle\n",
    "import pandas as pd\n",
    "import numpy as np\n",
    "from sklearn import preprocessing, model_selection, svm\n",
    "from sklearn.linear_model import LinearRegression\n",
    "\n",
    "df = quandl.get('WIKI/GOOGL', authtoken=\"KwWzLLZqSKFv4jBtSYr6\")\n",
    "#print(df.head())\n",
    "\n",
    "df['HL_PCT'] = (df['High'] - df['Close']) / df['Close'] * 100.0\n",
    "df['PCT_change'] = (df['Close'] - df['Open']) / df['Open'] * 100.0\n",
    "\n",
    "df = df[['Adj. Close', 'HL_PCT', 'PCT_change', 'Adj. Volume']]\n",
    "\n",
    "#print(df.head())\n",
    "df.fillna(-99999, inplace = True)\n",
    "\n",
    "forecast_col = 'Adj. Close'\n",
    "forecast_out = int(math.ceil(0.01 * len(df)))\n",
    "\n",
    "df['label'] = df[forecast_col].shift(-forecast_out)\n",
    "\n",
    "df.dropna(inplace = True)\n",
    "\n",
    "X = np.array(df.drop(['label'], 1))\n",
    "y = np.array(df['label'])\n",
    "\n",
    "X = preprocessing.scale(X)\n",
    "\n",
    "X_train, X_test, y_train, y_test = model_selection.train_test_split(X, y, test_size = 0.2)\n",
    "\n",
    "# clf = svm.SVR(kernel = 'linear' or poly or rbf or sigmoid)\n",
    "\n",
    "clf = LinearRegression(n_jobs = -1)\n",
    "clf.fit(X_train, y_train)\n",
    "with open('Model.pickle', 'wb') as f:\n",
    "    pickle.dump(clf, f)\n",
    "\n",
    "accuracy = clf.score(X_test, y_test)\n",
    "\n",
    "print(accuracy)"
   ]
  },
  {
   "cell_type": "code",
   "execution_count": null,
   "metadata": {},
   "outputs": [],
   "source": []
  }
 ],
 "metadata": {
  "kernelspec": {
   "display_name": "Python 3",
   "language": "python",
   "name": "python3"
  },
  "language_info": {
   "codemirror_mode": {
    "name": "ipython",
    "version": 3
   },
   "file_extension": ".py",
   "mimetype": "text/x-python",
   "name": "python",
   "nbconvert_exporter": "python",
   "pygments_lexer": "ipython3",
   "version": "3.6.9"
  }
 },
 "nbformat": 4,
 "nbformat_minor": 2
}

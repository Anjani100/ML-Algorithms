{
 "cells": [
  {
   "cell_type": "code",
   "execution_count": 28,
   "metadata": {},
   "outputs": [
    {
     "name": "stdout",
     "output_type": "stream",
     "text": [
      "r\n"
     ]
    },
    {
     "data": {
      "image/png": "[encoded data removed]",
      "text/plain": [
       "<Figure size 432x288 with 1 Axes>"
      ]
     },
     "metadata": {},
     "output_type": "display_data"
    }
   ],
   "source": [
    "import numpy as np\n",
    "import warnings\n",
    "import matplotlib.pyplot as plt\n",
    "from matplotlib import style\n",
    "from collections import Counter\n",
    "\n",
    "style.use('ggplot')\n",
    "\n",
    "dataset = {'k': [[1,2], [2,3], [3,1]], 'r': [[5,6], [7,8], [8,6]]}\n",
    "predict_value = [6, 8]\n",
    "\n",
    "def k_nearest_neighbors(data, predict, k = 5):\n",
    "    if(k < len(data)):\n",
    "        warnings.warn('K is set to a value less than total voting groups!')\n",
    "    # Algo\n",
    "    \n",
    "    distances = []\n",
    "    \n",
    "    for group in data:\n",
    "        for features in data[group]:\n",
    "            euclid_dist = np.linalg.norm(np.array(features) - np.array(predict))\n",
    "            distances.append([euclid_dist, group])\n",
    "    \n",
    "    #print(len(data), distances)\n",
    "    \n",
    "    votes = [i[1] for i in sorted(distances)[:k]]\n",
    "    vote_result = Counter(votes).most_common(1)[0][0]\n",
    "    \n",
    "    #print(Counter(votes).most_common(1))\n",
    "    \n",
    "    return vote_result\n",
    "\n",
    "\n",
    "result = k_nearest_neighbors(dataset, predict_value, k = 3)\n",
    "\n",
    "print(result)\n",
    "for i in dataset:\n",
    "    for ii in dataset[i]:\n",
    "        plt.scatter(ii[0], ii[1], s = 100, color = i)\n",
    "plt.scatter(predict_value[0], predict_value[1], s= 500, marker = '*', color = result)\n",
    "plt.show()"
   ]
  },
  {
   "cell_type": "code",
   "execution_count": null,
   "metadata": {},
   "outputs": [],
   "source": []
  }
 ],
 "metadata": {
  "kernelspec": {
   "display_name": "Python 3",
   "language": "python",
   "name": "python3"
  },
  "language_info": {
   "codemirror_mode": {
    "name": "ipython",
    "version": 3
   },
   "file_extension": ".py",
   "mimetype": "text/x-python",
   "name": "python",
   "nbconvert_exporter": "python",
   "pygments_lexer": "ipython3",
   "version": "3.6.9"
  }
 },
 "nbformat": 4,
 "nbformat_minor": 2
}
